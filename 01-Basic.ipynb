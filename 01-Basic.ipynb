{
 "cells": [
  {
   "cell_type": "markdown",
   "id": "0e349f80-6ce4-42cf-921a-44e012750a60",
   "metadata": {},
   "source": [
    "### Syntax and Semantics in Python\n",
    
    "- Single line Comments and multiline comments \n",
    "- Definition of Syntax and Semantics\n",
    "- Basic Syntax Rules in Python\n",
    "- Understanding Semantics in Python\n",
    "- Common Syntax Errors and How to Avoid Them\n",
    "- Practical Code Examples"
   ]
  },
  {
   "cell_type": "markdown",
   "id": "dbb13a63-6659-4ee9-b712-7a35c367187a",
   "metadata": {},
   "source": [
    "Syntax refers to the set of rules that defines the combinations of symbols that are considered to be correctly structured programs in a language. In simpler terms, syntax is about the correct arrangement of words and symbols in a code.\n",
    "\n",
    "Semantics refers to the meaning or the interpretation of the symbols, characters, and commands in a language. It is about what the code is supposed to do when it runs."
   ]
  },
  {
   "cell_type": "code",
   "execution_count": 3,
   "id": "434b5451-08b2-4696-aced-04716ef2494c",
   "metadata": {},
   "outputs": [],
   "source": [
    "## Basic syntax rules in python\n",
    "## case sensitivity -- Python is case sensitive\n",
    "name = \"Sunil\"\n",
    "Name = \"Tambe\""
   ]
  },
  {
   "cell_type": "code",
   "execution_count": 4,
   "id": "8a11b42b-ea55-4513-a197-c3824a84939a",
   "metadata": {},
   "outputs": [
    {
     "name": "stdout",
     "output_type": "stream",
     "text": [
      "Tambe\n"
     ]
    }
   ],
   "source": [
    "print(Name)"
   ]
  },
  {
   "cell_type": "code",
   "execution_count": 5,
   "id": "ef170022-3c06-4f74-9703-16f4013c935f",
   "metadata": {},
   "outputs": [
    {
     "name": "stdout",
     "output_type": "stream",
     "text": [
      "Sunil\n"
     ]
    }
   ],
   "source": [
    "print(name)"
   ]
  },
  {
   "cell_type": "markdown",
   "id": "1a863277-a11f-4f57-bf8b-fbfab47b2069",
   "metadata": {},
   "source": [
    "### Indentation\n",
    " Python uses indentation to define blocks of code. COnsistent use of spaces(commonly 4) or a tab is required.\n",
    "\n",
    "age = 32\n",
    "if age>30:\n",
    "    print(age)"
   ]
  },
  {
   "cell_type": "code",
   "execution_count": 10,
   "id": "056a5f40-a8f6-43c2-b449-b6ed1b4fef3c",
   "metadata": {},
   "outputs": [
    {
     "name": "stdout",
     "output_type": "stream",
     "text": [
      "Hello World!\n"
     ]
    }
   ],
   "source": [
    "## This is a single line comment\n",
    "print(\"Hello World!\")"
   ]
  },
  {
   "cell_type": "code",
   "execution_count": 14,
   "id": "5e62bc62-36c8-460c-a785-9cb523794da7",
   "metadata": {},
   "outputs": [
    {
     "name": "stdout",
     "output_type": "stream",
     "text": [
      "43\n"
     ]
    }
   ],
   "source": [
    "## Line Continuation\n",
    "\n",
    "total = 1+2+3+4+5+6+7+\\\n",
    "4+5+6\n",
    "print(total)"
   ]
  },
  {
   "cell_type": "code",
   "execution_count": 15,
   "id": "c07b64f6-ad67-4c80-97e8-7bc0a166d989",
   "metadata": {},
   "outputs": [
    {
     "name": "stdout",
     "output_type": "stream",
     "text": [
      "15\n"
     ]
    }
   ],
   "source": [
    "## Multiple statements on a single line\n",
    "x =5;y=10;z=x+y\n",
    "print(z)"
   ]
  },
  {
   "cell_type": "code",
   "execution_count": 16,
   "id": "d303d383-1f96-4b1e-ac8a-addbd723f94b",
   "metadata": {},
   "outputs": [],
   "source": [
    "# Understand semantics in python\n",
    "# variable assingment\n",
    "age = 32 # age is an integer\n",
    "name = \"Sunil\" # name is string"
   ]
  },
  {
   "cell_type": "code",
   "execution_count": 17,
   "id": "7bc79fe6-b0b2-4434-a70e-176fe2b2e5b8",
   "metadata": {},
   "outputs": [
    {
     "data": {
      "text/plain": [
       "int"
      ]
     },
     "execution_count": 17,
     "metadata": {},
     "output_type": "execute_result"
    }
   ],
   "source": [
    "type(age)"
   ]
  },
  {
   "cell_type": "code",
   "execution_count": 18,
   "id": "d57f5e93-f5c7-46bf-ba4f-f45f6b0a1fa8",
   "metadata": {},
   "outputs": [
    {
     "data": {
      "text/plain": [
       "str"
      ]
     },
     "execution_count": 18,
     "metadata": {},
     "output_type": "execute_result"
    }
   ],
   "source": [
    "type(name)"
   ]
  },
  {
   "cell_type": "code",
   "execution_count": 20,
   "id": "7f2ad9ae-1258-46b9-a410-16edf2cc1d1e",
   "metadata": {},
   "outputs": [
    {
     "name": "stdout",
     "output_type": "stream",
     "text": [
      "<class 'int'>\n",
      "<class 'str'>\n"
     ]
    }
   ],
   "source": [
    "# Type Inference\n",
    "variable = 10\n",
    "print(type(variable))\n",
    "variable = \"Sunil\"\n",
    "print(type(variable))"
   ]
  },
  {
   "cell_type": "code",
   "execution_count": 21,
   "id": "857546d9-606c-4225-9593-b0c5a1c6eeb8",
   "metadata": {},
   "outputs": [
    {
     "ename": "NameError",
     "evalue": "name 'b' is not defined",
     "output_type": "error",
     "traceback": [
      "\u001b[1;31m---------------------------------------------------------------------------\u001b[0m",
      "\u001b[1;31mNameError\u001b[0m                                 Traceback (most recent call last)",
      "Cell \u001b[1;32mIn[21], line 2\u001b[0m\n\u001b[0;32m      1\u001b[0m \u001b[38;5;66;03m## Name Error\u001b[39;00m\n\u001b[1;32m----> 2\u001b[0m a\u001b[38;5;241m=\u001b[39mb\n",
      "\u001b[1;31mNameError\u001b[0m: name 'b' is not defined"
     ]
    }
   ],
   "source": [
    "## Name Error\n",
    "a=b"
   ]
  },
  {
   "cell_type": "code",
   "execution_count": 23,
   "id": "f6af92fc-0f12-4325-a3c2-b0fe098fe936",
   "metadata": {},
   "outputs": [
    {
     "name": "stdout",
     "output_type": "stream",
     "text": [
      "Correct Information\n",
      "This will print\n",
      "Outside the if block\n"
     ]
    }
   ],
   "source": [
    "## Code examples of Indentation\n",
    "if True:\n",
    "    print(\"Correct Information\")\n",
    "    if False:\n",
    "        print(\"This ont print\")\n",
    "    print(\"This will print\")\n",
    "print(\"Outside the if block\")"
   ]
  },
  {
   "cell_type": "markdown",
   "id": "cac83793-6a84-4545-a98d-b563ac5d18ec",
   "metadata": {},
   "source": [
    "### Conclusion:\n",
    "Understanding the syntax and semantics of Python is crucial for writing correct and meaningful programs. Syntax ensures the code is properly structured, while semantics ensures the code behaves as expected. Mastering these concepts will help in writing efficient and error-free Python code."
   ]
  },
  {
   "cell_type": "code",
   "execution_count": null,
   "id": "fb5cc260-5cf7-447f-b9df-b46e698b5806",
   "metadata": {},
   "outputs": [],
   "source": []
  }
 ],
 "metadata": {
  "kernelspec": {
   "display_name": "Python 3 (ipykernel)",
   "language": "python",
   "name": "python3"
  },
  "language_info": {
   "codemirror_mode": {
    "name": "ipython",
    "version": 3
   },
   "file_extension": ".py",
   "mimetype": "text/x-python",
   "name": "python",
   "nbconvert_exporter": "python",
   "pygments_lexer": "ipython3",
   "version": "3.13.5"
  }
 },
 "nbformat": 4,
 "nbformat_minor": 5
}
