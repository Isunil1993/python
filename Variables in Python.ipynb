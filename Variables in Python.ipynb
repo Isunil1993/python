{
 "cells": [
  {
   "cell_type": "markdown",
   "id": "7cb69d70-e87b-4d1c-8ff8-b99f22549c4f",
   "metadata": {},
   "source": [
    "### Variables\n",
    "Variables are fundamental elements in programming used to store data that can be referenced and manipulated in a program. In Python, variables are created when you assign a value to them, and they do not need explicit declaration to reserve memory space. The declaration happens automatically when you assign a value to a variable.\n",
    "\n",
    "Video Outline:\n",
    "- Introduction to Variables\n",
    "- Declaring and Assigning Variables\n",
    "- Naming Conventions\n",
    "- Understanding Variable Types\n",
    "- Type Checking and Conversion\n",
    "- Dynamic Typing\n",
    "- Practical Examples and Common Errors"
   ]
  },
  {
   "cell_type": "code",
   "execution_count": 1,
   "id": "a13db00d-73b6-4657-b6eb-8f535af6cdc5",
   "metadata": {},
   "outputs": [],
   "source": [
    "a = 100"
   ]
  },
  {
   "cell_type": "code",
   "execution_count": 3,
   "id": "ae953f64-6153-4f1a-8900-aa35f6abe1e9",
   "metadata": {},
   "outputs": [
    {
     "name": "stdout",
     "output_type": "stream",
     "text": [
      "Age: 32\n",
      "Height: 5.9\n",
      "Name:  Sunil\n"
     ]
    }
   ],
   "source": [
    "## Decalring And Assinging Variables\n",
    "\n",
    "age = 32\n",
    "height = 5.9\n",
    "name =\" Sunil\"\n",
    "is_student = True\n",
    "\n",
    "## printing the varialbles\n",
    "print(\"Age:\",age)\n",
    "print(\"Height:\",height)\n",
    "print(\"Name:\",name)\n",
    "\n",
    "\n"
   ]
  },
  {
   "cell_type": "code",
   "execution_count": 4,
   "id": "7fd3ab9e-ff72-4ee4-a0c6-29f8af35a682",
   "metadata": {},
   "outputs": [],
   "source": [
    "## Naming COnventions\n",
    "## Variable names should be descriptive\n",
    "## They must start with a letter or an '_' and contains letter, number and underscores\n",
    "## Variables name case sensitives\n",
    "\n",
    "# valid variable names\n",
    "\n",
    "first_name = \"Sunil\"\n",
    "last_name = \"Tambe\""
   ]
  },
  {
   "cell_type": "code",
   "execution_count": 6,
   "id": "c47d3442-4636-42ee-a3f1-42657430ddf7",
   "metadata": {},
   "outputs": [
    {
     "ename": "SyntaxError",
     "evalue": "cannot assign to expression here. Maybe you meant '==' instead of '='? (3295453688.py, line 3)",
     "output_type": "error",
     "traceback": [
      "\u001b[1;36m  Cell \u001b[1;32mIn[6], line 3\u001b[1;36m\u001b[0m\n\u001b[1;33m    first-name=\"Sunil\"\u001b[0m\n\u001b[1;37m    ^\u001b[0m\n\u001b[1;31mSyntaxError\u001b[0m\u001b[1;31m:\u001b[0m cannot assign to expression here. Maybe you meant '==' instead of '='?\n"
     ]
    }
   ],
   "source": [
    "# invalid variables\n",
    "#2age=30\n",
    "first-name=\"Sunil\"\n"
   ]
  },
  {
   "cell_type": "code",
   "execution_count": 7,
   "id": "34e090a9-8724-4303-8703-256bbe00af4d",
   "metadata": {},
   "outputs": [],
   "source": [
    "## case sensitivity\n",
    "name=\"Sunil\"\n",
    "Name=\"Sunil\""
   ]
  },
  {
   "cell_type": "code",
   "execution_count": 8,
   "id": "ba68e2b5-b6ff-4ed4-9753-5f15afa9d25e",
   "metadata": {},
   "outputs": [
    {
     "name": "stdout",
     "output_type": "stream",
     "text": [
      "<class 'str'>\n"
     ]
    }
   ],
   "source": [
    "## Understnading Variable types\n",
    "## Python is dynamically typed,type of a variable is determined at runtime\n",
    "age=32#int\n",
    "height=5.9 #float\n",
    "name=\"Sunil\" #str\n",
    "is_student=True #bool\n",
    "\n",
    "print(type(name))"
   ]
  },
  {
   "cell_type": "code",
   "execution_count": 9,
   "id": "20b0a9e3-77fd-497c-817e-7318b42af46f",
   "metadata": {},
   "outputs": [
    {
     "data": {
      "text/plain": [
       "float"
      ]
     },
     "execution_count": 9,
     "metadata": {},
     "output_type": "execute_result"
    }
   ],
   "source": [
    "## Type Checking and Conversion\n",
    "\n",
    "type(height)"
   ]
  },
  {
   "cell_type": "code",
   "execution_count": 10,
   "id": "ec6be2f5-292a-47bc-bc6b-3705cebea6d0",
   "metadata": {},
   "outputs": [
    {
     "name": "stdout",
     "output_type": "stream",
     "text": [
      "<class 'int'>\n",
      "32\n",
      "<class 'str'>\n"
     ]
    }
   ],
   "source": [
    "age=32\n",
    "print(type(age))\n",
    "\n",
    "# Type conversion\n",
    "age_str=str(age)\n",
    "print(age_str)\n",
    "print(type(age_str))"
   ]
  },
  {
   "cell_type": "code",
   "execution_count": 12,
   "id": "cffacdd7-0a5f-4b68-96c4-7a430f40b202",
   "metadata": {},
   "outputs": [
    {
     "name": "stdout",
     "output_type": "stream",
     "text": [
      "<class 'int'>\n"
     ]
    }
   ],
   "source": [
    "age='32'\n",
    "print(type(int(age)))"
   ]
  },
  {
   "cell_type": "code",
   "execution_count": 13,
   "id": "41cb0b73-7558-4022-a853-90f0597e6bc4",
   "metadata": {},
   "outputs": [
    {
     "ename": "TypeError",
     "evalue": "unsupported operand type(s) for -: 'str' and 'str'",
     "output_type": "error",
     "traceback": [
      "\u001b[1;31m---------------------------------------------------------------------------\u001b[0m",
      "\u001b[1;31mTypeError\u001b[0m                                 Traceback (most recent call last)",
      "Cell \u001b[1;32mIn[13], line 1\u001b[0m\n\u001b[1;32m----> 1\u001b[0m name \u001b[38;5;241m-\u001b[39m \u001b[38;5;124m\"\u001b[39m\u001b[38;5;124mSunil\u001b[39m\u001b[38;5;124m\"\u001b[39m\n\u001b[0;32m      2\u001b[0m \u001b[38;5;28mint\u001b[39m(name)\n",
      "\u001b[1;31mTypeError\u001b[0m: unsupported operand type(s) for -: 'str' and 'str'"
     ]
    }
   ],
   "source": [
    "name - \"Sunil\"\n",
    "int(name)"
   ]
  },
  {
   "cell_type": "code",
   "execution_count": 14,
   "id": "3e69049d-4ef9-48d2-8276-72e9bd0615ed",
   "metadata": {},
   "outputs": [
    {
     "data": {
      "text/plain": [
       "float"
      ]
     },
     "execution_count": 14,
     "metadata": {},
     "output_type": "execute_result"
    }
   ],
   "source": [
    "height = 5.9\n",
    "type(height)"
   ]
  },
  {
   "cell_type": "code",
   "execution_count": 15,
   "id": "3000c321-b200-4b1d-a88a-7ccf4b44ec04",
   "metadata": {},
   "outputs": [
    {
     "data": {
      "text/plain": [
       "5"
      ]
     },
     "execution_count": 15,
     "metadata": {},
     "output_type": "execute_result"
    }
   ],
   "source": [
    "int(height)"
   ]
  },
  {
   "cell_type": "code",
   "execution_count": 16,
   "id": "c1047510-7d86-45d9-99a0-71566b73c08e",
   "metadata": {},
   "outputs": [
    {
     "data": {
      "text/plain": [
       "5.9"
      ]
     },
     "execution_count": 16,
     "metadata": {},
     "output_type": "execute_result"
    }
   ],
   "source": [
    "float(height)"
   ]
  },
  {
   "cell_type": "code",
   "execution_count": 17,
   "id": "35c8cac4-483a-45aa-98ba-8b218f50f0b3",
   "metadata": {},
   "outputs": [
    {
     "data": {
      "text/plain": [
       "5.0"
      ]
     },
     "execution_count": 17,
     "metadata": {},
     "output_type": "execute_result"
    }
   ],
   "source": [
    "float(int(height))"
   ]
  },
  {
   "cell_type": "code",
   "execution_count": 21,
   "id": "eedc525d-9dd5-4740-84df-2b7f383e39df",
   "metadata": {},
   "outputs": [
    {
     "name": "stdout",
     "output_type": "stream",
     "text": [
      "10 <class 'int'>\n",
      "Hello <class 'str'>\n",
      "3.14 <class 'float'>\n"
     ]
    }
   ],
   "source": [
    "## Dynamic Typing\n",
    "## Python allows the type of a vraible to change as the program executes\n",
    "var=10 #int\n",
    "print(var,type(var))\n",
    "\n",
    "var=\"Hello\"\n",
    "print(var,type(var))\n",
    "\n",
    "var=3.14\n",
    "print(var,type(var))\n",
    "\n",
    "var=\"Hello\""
   ]
  },
  {
   "cell_type": "code",
   "execution_count": 22,
   "id": "080afb46-6822-4008-849b-c88bae491a34",
   "metadata": {},
   "outputs": [
    {
     "name": "stdin",
     "output_type": "stream",
     "text": [
      "What is the age 10\n"
     ]
    },
    {
     "name": "stdout",
     "output_type": "stream",
     "text": [
      "10 <class 'int'>\n"
     ]
    }
   ],
   "source": [
    "## input\n",
    "\n",
    "age=int(input(\"What is the age\"))\n",
    "print(age,type(age))"
   ]
  },
  {
   "cell_type": "code",
   "execution_count": 25,
   "id": "17c46415-dbeb-4ec1-8855-89c35a61052d",
   "metadata": {},
   "outputs": [
    {
     "name": "stdin",
     "output_type": "stream",
     "text": [
      "Enter the first number;  33\n",
      "Enter the second number:  33\n"
     ]
    },
    {
     "name": "stdout",
     "output_type": "stream",
     "text": [
      "Sum:  66.0\n",
      "Difference:  0.0\n",
      "Product:  1089.0\n",
      "Quotient:  1.0\n"
     ]
    }
   ],
   "source": [
    "# Simple calculator\n",
    "\n",
    "num1 = float(input(\"Enter the first number; \"))\n",
    "num2 = float(input(\"Enter the second number: \")\n",
    "            )\n",
    "sum = num1 + num2\n",
    "difference = num1 -num2\n",
    "product = num1 * num2\n",
    "quotient = num1 / num2\n",
    "\n",
    "print(\"Sum: \",sum)\n",
    "print(\"Difference: \",difference)\n",
    "print(\"Product: \", product)\n",
    "print(\"Quotient: \", quotient)\n",
    "            \n",
    "             \n"
   ]
  },
  {
   "cell_type": "markdown",
   "id": "90cf9160-20e4-4812-93f6-58bc60b1d766",
   "metadata": {},
   "source": [
    "### Conclusion:\n",
    "Variables are essential in Python programming for storing and manipulating data. Understanding how to declare, assign, and use variables effectively is crucial for writing functional and efficient code. Following proper naming conventions and understanding variable types will help in maintaining readability and consistency in your code."
   ]
  },
  {
   "cell_type": "code",
   "execution_count": null,
   "id": "2f3b3ed8-277d-426b-9799-7e82366c1b0d",
   "metadata": {},
   "outputs": [],
   "source": []
  }
 ],
 "metadata": {
  "kernelspec": {
   "display_name": "Python 3 (ipykernel)",
   "language": "python",
   "name": "python3"
  },
  "language_info": {
   "codemirror_mode": {
    "name": "ipython",
    "version": 3
   },
   "file_extension": ".py",
   "mimetype": "text/x-python",
   "name": "python",
   "nbconvert_exporter": "python",
   "pygments_lexer": "ipython3",
   "version": "3.13.5"
  }
 },
 "nbformat": 4,
 "nbformat_minor": 5
}
